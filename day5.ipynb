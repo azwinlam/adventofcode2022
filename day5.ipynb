{
 "cells": [
  {
   "cell_type": "code",
   "execution_count": 124,
   "metadata": {},
   "outputs": [],
   "source": [
    "with open(\"./day5data.txt\", encoding = 'utf-8') as f:\n",
    "   data = [line.strip() for line in f.readlines()]"
   ]
  },
  {
   "cell_type": "code",
   "execution_count": 125,
   "metadata": {},
   "outputs": [
    {
     "name": "stdout",
     "output_type": "stream",
     "text": [
      "['M', 'Q', 'S', 'H', 'J', 'M', 'W', 'N', 'H']\n"
     ]
    }
   ],
   "source": [
    "import re\n",
    "\n",
    "\n",
    "#     [D]    \n",
    "# [N] [C]    \n",
    "# [Z] [M] [P]\n",
    "#  1   2   3 \n",
    "# puzzle = [[\"Z\",\"N\"],[\"M\",\"C\",\"D\"],[\"P\"]]\n",
    "\n",
    "#     [B]             [B] [S]        \n",
    "#     [M]             [P] [L] [B] [J]\n",
    "#     [D]     [R]     [V] [D] [Q] [D]\n",
    "#     [T] [R] [Z]     [H] [H] [G] [C]\n",
    "#     [P] [W] [J] [B] [J] [F] [J] [S]\n",
    "# [N] [S] [Z] [V] [M] [N] [Z] [F] [M]\n",
    "# [W] [Z] [H] [D] [H] [G] [Q] [S] [W]\n",
    "# [B] [L] [Q] [W] [S] [L] [J] [W] [Z]\n",
    "#  1   2   3   4   5   6   7   8   9 \n",
    "\n",
    "puzzle = [[\"B\",'W',\"N\"],[\"L\",'Z','S','P','T','D','M','B'],['Q','H','Z','W','R'],['W','D','V','J','Z','R'],['S','H','M','B'],['L','G','N','J','H','V','P','B'],['J','Q','Z','F','H','D','L','S'],['W','S','F','J','G','Q','B'],['Z','W','M','S','C','D','J']]\n",
    "#instruction set\n",
    "# how many, from, to\n",
    "\n",
    "# array_2d = puzzle\n",
    "\n",
    "# for row in array_2d:\n",
    "#     print(*row, sep=\"\\t\")\n",
    "\n",
    "instructions = [re.findall(r'\\d+',i) for i in data]\n",
    "\n",
    "# print(instructions)\n",
    "for i in instructions:\n",
    "    amount = int(i[0])\n",
    "    frum = int(i[1])\n",
    "    to = int(i[2])\n",
    "    for num in range(0,amount):\n",
    "        # print(frum,to)\n",
    "        # print(puzzle[frum-1],\"----->\",puzzle[to-1])\n",
    "        removed = puzzle[frum-1].pop()\n",
    "        puzzle[to-1].append(removed)\n",
    "        # print(puzzle)\n",
    "    # print(\"FINAL\",puzzle[to-1])\n",
    "    # print(\"line\",count)\n",
    "answer = [i[-1] for i in puzzle]\n",
    "print(answer)\n"
   ]
  },
  {
   "cell_type": "code",
   "execution_count": 126,
   "metadata": {},
   "outputs": [
    {
     "name": "stdout",
     "output_type": "stream",
     "text": [
      "['L', 'L', 'W', 'J', 'R', 'B', 'H', 'V', 'Z']\n"
     ]
    }
   ],
   "source": [
    "##Part Two\n",
    "#     [D]    \n",
    "# [N] [C]    \n",
    "# [Z] [M] [P]\n",
    "#  1   2   3 \n",
    "# puzzle = [[\"Z\",\"N\"],[\"M\",\"C\",\"D\"],[\"P\"]]\n",
    "\n",
    "#     [B]             [B] [S]        \n",
    "#     [M]             [P] [L] [B] [J]\n",
    "#     [D]     [R]     [V] [D] [Q] [D]\n",
    "#     [T] [R] [Z]     [H] [H] [G] [C]\n",
    "#     [P] [W] [J] [B] [J] [F] [J] [S]\n",
    "# [N] [S] [Z] [V] [M] [N] [Z] [F] [M]\n",
    "# [W] [Z] [H] [D] [H] [G] [Q] [S] [W]\n",
    "# [B] [L] [Q] [W] [S] [L] [J] [W] [Z]\n",
    "#  1   2   3   4   5   6   7   8   9 \n",
    "\n",
    "puzzle = [[\"B\",'W',\"N\"],[\"L\",'Z','S','P','T','D','M','B'],['Q','H','Z','W','R'],['W','D','V','J','Z','R'],['S','H','M','B'],['L','G','N','J','H','V','P','B'],['J','Q','Z','F','H','D','L','S'],['W','S','F','J','G','Q','B'],['Z','W','M','S','C','D','J']]\n",
    "#instruction set\n",
    "# how many, from, to\n",
    "\n",
    "instructions = [re.findall(r'\\d+',i) for i in data]\n",
    "\n",
    "# print(instructions)\n",
    "for i in instructions:\n",
    "    amount = int(i[0])\n",
    "    frum = int(i[1])\n",
    "    to = int(i[2])\n",
    "    if amount == 1:\n",
    "        for num in range(1,amount+1):\n",
    "            # print(frum,to)\n",
    "            # print(puzzle[frum-1],\"----->\",puzzle[to-1])\n",
    "            removed = puzzle[frum-1].pop()\n",
    "            puzzle[to-1].append(removed)\n",
    "            # print(puzzle)\n",
    "        # print(\"FINAL\",puzzle[to-1])\n",
    "        # print(\"line\",count)\n",
    "    else:\n",
    "         for num in range(1,amount+1):\n",
    "            # print(frum,to)\n",
    "            # print(puzzle[frum-1],\"----->\",puzzle[to-1])\n",
    "            removed = puzzle[frum-1].pop(-(amount+1-num))\n",
    "            puzzle[to-1].append(removed)\n",
    "            # print(puzzle)\n",
    "        # print(\"FINAL\",puzzle[to-1])\n",
    "        # print(\"line\",count)\n",
    "answer = [i[-1] for i in puzzle]\n",
    "print(answer)\n"
   ]
  },
  {
   "cell_type": "code",
   "execution_count": 127,
   "metadata": {},
   "outputs": [
    {
     "ename": "NameError",
     "evalue": "name 'LNWPHWJHQ' is not defined",
     "output_type": "error",
     "traceback": [
      "\u001b[0;31m---------------------------------------------------------------------------\u001b[0m",
      "\u001b[0;31mNameError\u001b[0m                                 Traceback (most recent call last)",
      "Cell \u001b[0;32mIn[127], line 1\u001b[0m\n\u001b[0;32m----> 1\u001b[0m LNWPHWJHQ\n",
      "\u001b[0;31mNameError\u001b[0m: name 'LNWPHWJHQ' is not defined"
     ]
    }
   ],
   "source": [
    "LLWJRBHVZ"
   ]
  }
 ],
 "metadata": {
  "kernelspec": {
   "display_name": "Python 3.10.6 64-bit",
   "language": "python",
   "name": "python3"
  },
  "language_info": {
   "codemirror_mode": {
    "name": "ipython",
    "version": 3
   },
   "file_extension": ".py",
   "mimetype": "text/x-python",
   "name": "python",
   "nbconvert_exporter": "python",
   "pygments_lexer": "ipython3",
   "version": "3.10.6"
  },
  "orig_nbformat": 4,
  "vscode": {
   "interpreter": {
    "hash": "b0fa6594d8f4cbf19f97940f81e996739fb7646882a419484c72d19e05852a7e"
   }
  }
 },
 "nbformat": 4,
 "nbformat_minor": 2
}
