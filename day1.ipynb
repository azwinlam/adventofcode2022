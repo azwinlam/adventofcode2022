{
 "cells": [
  {
   "cell_type": "code",
   "execution_count": 46,
   "metadata": {},
   "outputs": [
    {
     "name": "stdout",
     "output_type": "stream",
     "text": [
      "69528\n"
     ]
    }
   ],
   "source": [
    "with open(\"./day1data.txt\", encoding = 'utf-8') as f:\n",
    "   data = [line.strip() for line in f.readlines()]\n",
    "\n",
    "array_data = data\n",
    "total_array = []\n",
    "temp_array = []\n",
    "for line in array_data:\n",
    "    if line != '':\n",
    "        # print(line)\n",
    "        temp_array.append(int(line))\n",
    "        # print(temp_array)\n",
    "    else:\n",
    "        # print(\"space!\")\n",
    "        total_array.append(sum(temp_array))\n",
    "        # print(\"TOTAL ARRAY\", total_array)\n",
    "        temp_array = []\n",
    "\n",
    "print(max(total_array))"
   ]
  },
  {
   "cell_type": "code",
   "execution_count": 54,
   "metadata": {},
   "outputs": [
    {
     "name": "stdout",
     "output_type": "stream",
     "text": [
      "206152\n"
     ]
    }
   ],
   "source": [
    "answer = sum(sorted(total_array)[-3:])\n",
    "print(answer)"
   ]
  },
  {
   "cell_type": "code",
   "execution_count": null,
   "metadata": {},
   "outputs": [],
   "source": []
  }
 ],
 "metadata": {
  "kernelspec": {
   "display_name": "Python 3.10.5 64-bit",
   "language": "python",
   "name": "python3"
  },
  "language_info": {
   "codemirror_mode": {
    "name": "ipython",
    "version": 3
   },
   "file_extension": ".py",
   "mimetype": "text/x-python",
   "name": "python",
   "nbconvert_exporter": "python",
   "pygments_lexer": "ipython3",
   "version": "3.10.5"
  },
  "orig_nbformat": 4,
  "vscode": {
   "interpreter": {
    "hash": "aee8b7b246df8f9039afb4144a1f6fd8d2ca17a180786b69acc140d282b71a49"
   }
  }
 },
 "nbformat": 4,
 "nbformat_minor": 2
}
