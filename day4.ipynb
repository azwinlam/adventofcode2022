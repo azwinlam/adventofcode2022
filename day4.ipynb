{
 "cells": [
  {
   "cell_type": "code",
   "execution_count": 7,
   "metadata": {},
   "outputs": [
    {
     "name": "stdout",
     "output_type": "stream",
     "text": [
      "485 ANSWER\n"
     ]
    }
   ],
   "source": [
    "with open(\"./day4data.txt\", encoding = 'utf-8') as f:\n",
    "   data = [line.strip() for line in f.readlines()]\n",
    "\n",
    "array_data = data\n",
    "count = 0\n",
    "for i in array_data:\n",
    "   # print(i)\n",
    "   pairs = i.split(',')\n",
    "   pair1 = pairs[0].split(\"-\")\n",
    "   pair2 = pairs[1].split(\"-\")\n",
    "   x = [i for i in range(int(pair1[0]),int(pair1[1])+1)]\n",
    "   y = [i for i in range(int(pair2[0]),int(pair2[1])+1)]\n",
    "   # print(pair1_digits,pair2_digits)\n",
    "   result1 = set(x).intersection(set(y))\n",
    "   result2 = set(y).intersection(set(x))\n",
    "   if len(result1) == len(x) or len(result2) == len(y):\n",
    "      count+=1\n",
    "   # print(\"here\",result1,result2)\n",
    "   #check if pair 1 in pair 2, then check pair 2 in pair 1\n",
    "print(count, \"ANSWER\")"
   ]
  },
  {
   "cell_type": "code",
   "execution_count": 8,
   "metadata": {},
   "outputs": [
    {
     "name": "stdout",
     "output_type": "stream",
     "text": [
      "857 ANSWER\n"
     ]
    }
   ],
   "source": [
    "##Part 2\n",
    "count =0\n",
    "for i in array_data:\n",
    "\t# print(i)\n",
    "\tpairs = i.split(',')\n",
    "\tpair1 = pairs[0].split(\"-\")\n",
    "\tpair2 = pairs[1].split(\"-\")\n",
    "\tx = [i for i in range(int(pair1[0]),int(pair1[1])+1)]\n",
    "\ty = [i for i in range(int(pair2[0]),int(pair2[1])+1)]\n",
    "\t# print(pair1_digits,pair2_digits)\n",
    "\tresult1 = set(x).intersection(set(y))\n",
    "\tresult2 = set(y).intersection(set(x))\n",
    "\tif len(result1) > 0 or len(result2) > 0:\n",
    "\t\tcount+=1\n",
    "\n",
    "   # print(\"here\",result1,result2)\n",
    "   #check if pair 1 in pair 2, then check pair 2 in pair 1\n",
    "print(count, \"ANSWER\")"
   ]
  },
  {
   "cell_type": "code",
   "execution_count": null,
   "metadata": {},
   "outputs": [],
   "source": []
  }
 ],
 "metadata": {
  "kernelspec": {
   "display_name": "Python 3.10.5 64-bit",
   "language": "python",
   "name": "python3"
  },
  "language_info": {
   "codemirror_mode": {
    "name": "ipython",
    "version": 3
   },
   "file_extension": ".py",
   "mimetype": "text/x-python",
   "name": "python",
   "nbconvert_exporter": "python",
   "pygments_lexer": "ipython3",
   "version": "3.10.5"
  },
  "orig_nbformat": 4,
  "vscode": {
   "interpreter": {
    "hash": "aee8b7b246df8f9039afb4144a1f6fd8d2ca17a180786b69acc140d282b71a49"
   }
  }
 },
 "nbformat": 4,
 "nbformat_minor": 2
}
