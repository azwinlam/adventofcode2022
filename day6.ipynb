{
 "cells": [
  {
   "cell_type": "code",
   "execution_count": 33,
   "metadata": {},
   "outputs": [],
   "source": [
    "with open(\"./day6data.txt\", encoding = 'utf-8') as f:\n",
    "   data = f.read()"
   ]
  },
  {
   "cell_type": "code",
   "execution_count": 34,
   "metadata": {},
   "outputs": [
    {
     "name": "stdout",
     "output_type": "stream",
     "text": [
      "FOUND 1723\n"
     ]
    }
   ],
   "source": [
    "check = []\n",
    "count = 4\n",
    "for i in data:\n",
    "    if len(check) < 4:\n",
    "        check.append(i)\n",
    "    else:\n",
    "        # print(check)\n",
    "        if len(set(check)) == 4:\n",
    "            print(\"FOUND\",count)\n",
    "            break\n",
    "        check.pop(0)\n",
    "        check.append(i)\n",
    "        count +=1\n"
   ]
  },
  {
   "cell_type": "code",
   "execution_count": 35,
   "metadata": {},
   "outputs": [
    {
     "name": "stdout",
     "output_type": "stream",
     "text": [
      "FOUND 3708\n"
     ]
    }
   ],
   "source": [
    "##part 2\n",
    "\n",
    "check = []\n",
    "count = 14\n",
    "for i in data:\n",
    "    if len(check) < 14:\n",
    "        check.append(i)\n",
    "    else:\n",
    "        # print(check)\n",
    "        if len(set(check)) == 14:\n",
    "            print(\"FOUND\",count)\n",
    "            break\n",
    "        check.pop(0)\n",
    "        check.append(i)\n",
    "        count +=1"
   ]
  }
 ],
 "metadata": {
  "kernelspec": {
   "display_name": "Python 3.10.6 64-bit",
   "language": "python",
   "name": "python3"
  },
  "language_info": {
   "codemirror_mode": {
    "name": "ipython",
    "version": 3
   },
   "file_extension": ".py",
   "mimetype": "text/x-python",
   "name": "python",
   "nbconvert_exporter": "python",
   "pygments_lexer": "ipython3",
   "version": "3.10.6"
  },
  "orig_nbformat": 4,
  "vscode": {
   "interpreter": {
    "hash": "b0fa6594d8f4cbf19f97940f81e996739fb7646882a419484c72d19e05852a7e"
   }
  }
 },
 "nbformat": 4,
 "nbformat_minor": 2
}
